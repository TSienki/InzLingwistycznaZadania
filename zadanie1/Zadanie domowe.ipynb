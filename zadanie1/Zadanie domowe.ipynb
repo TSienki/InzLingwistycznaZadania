{
 "cells": [
  {
   "cell_type": "markdown",
   "metadata": {
    "toc": true
   },
   "source": [
    "<h1>Table of Contents<span class=\"tocSkip\"></span></h1>\n",
    "<div class=\"toc\"><ul class=\"toc-item\"><li><span><a href=\"#Inżynieria-lingwistyczna\" data-toc-modified-id=\"Inżynieria-lingwistyczna-1\"><span class=\"toc-item-num\">1&nbsp;&nbsp;</span>Inżynieria lingwistyczna</a></span></li><li><span><a href=\"#Zadanie-1---tokenizacja-(12-pkt)\" data-toc-modified-id=\"Zadanie-1---tokenizacja-(12-pkt)-2\"><span class=\"toc-item-num\">2&nbsp;&nbsp;</span>Zadanie 1 - tokenizacja (12 pkt)</a></span></li><li><span><a href=\"#Zadanie-2---klasyfikacja-(15-pkt)\" data-toc-modified-id=\"Zadanie-2---klasyfikacja-(15-pkt)-3\"><span class=\"toc-item-num\">3&nbsp;&nbsp;</span>Zadanie 2 - klasyfikacja (15 pkt)</a></span></li></ul></div>"
   ]
  },
  {
   "cell_type": "markdown",
   "metadata": {},
   "source": [
    "# Inżynieria lingwistyczna\n",
    "Ten notebook jest oceniany półautomatycznie. Nie twórz ani nie usuwaj komórek - struktura notebooka musi zostać zachowana. Odpowiedź wypełnij tam gdzie jest na to wskazane miejsce - odpowiedzi w innych miejscach nie będą sprawdzane (nie są widoczne dla sprawdzającego w systemie).\n",
    "\n",
    "Make sure you fill in any place that says `YOUR CODE HERE` or \"YOUR ANSWER HERE\"."
   ]
  },
  {
   "cell_type": "markdown",
   "metadata": {},
   "source": [
    "---"
   ]
  },
  {
   "cell_type": "markdown",
   "metadata": {},
   "source": [
    "# Zadanie 1 - tokenizacja (12 pkt)\n",
    "\n",
    "Jedną z nowoczesnych technik tokenizacji jest BPE - byte-pair encoding [1]. Technika ta polega na podzielenie słów na częste podsłowa (morfemy). W przeciwieństwie do podejść lingwistycznych, wymagających reguł tworzenia morfemów, BPE wyznacza je automatycznie poprzez wyznaczenie najczęstszych przylegających do siebie sekwencji znaków które występują obok siebie.\n",
    "\n",
    "Algorytm przebiega w następujących krokach.\n",
    "1. Podziel wszystkie słowa na symbole (początkowo pojedyncze znaki)\n",
    "2. Wyznacz najczęściej występującą obok siebie parę symboli \n",
    "3. Stwórz nowy symbol będący konkatenacją dwóch najczęstszych symboli.\n",
    "\n",
    "Uwaga 1: każde słowo zakończone jest specjalnym symbolem końca wyrazu.\n",
    "\n",
    "Uwaga 2: tworzenie nowego symbolu nie powoduje usuniecie starego tj. zawsze jednym z możliwych symboli jest pojedynczy znak, ale jeśli można to stosujemy symbol dłuższy.\n",
    "\n",
    "Przykład: korpus w którym występuje ,,ala'' 5 razy i ,,mama 10 razy''\n",
    "1. Dzielimy słowa na symbole ,,a l a END'' ,,m a m a END''  gdzie END jest symbolem końca wyrazu.\n",
    "2. Najczęstsza para obok siebie to ,,m a'' (20) razy\n",
    "3. Nowy symbol ,,ma''\n",
    "4. Nowy podział ,,a l a END'' ,,ma ma END''\n",
    "5. Najczęstsza para ,,ma ma'' (10) razy\n",
    "6. Nowy symbol ,,mama''\n",
    "7. Nowy podział ,,a l a END'' ,,mama END''\n",
    "8. itd.\n",
    "\n",
    "W pliku ,,brown_clusters.tsv'' pierwsza kolumna to identyfikator skupienia (nie używamy w tym zadaniu), druga kolumna to wyrazy, a trzecia to ich liczności w pewnym korpusie tweetów. Zaimplementuj technike BPE na tych słowach.\n",
    "\n",
    "Zaimplementuj algorytm BPE wykonujący `number_of_iterations` iteracji (łączeń symboli).\n",
    "\n",
    "[1] Sennrich, R., Haddow, B., and Birch, A. (2016). Neural machine translation of rare words with subword units. In ACL 2016."
   ]
  },
  {
   "cell_type": "code",
   "execution_count": 9,
   "metadata": {
    "ExecuteTime": {
     "end_time": "2020-03-22T20:42:37.786118Z",
     "start_time": "2020-03-22T20:42:36.017184Z"
    },
    "deletable": false,
    "nbgrader": {
     "cell_type": "code",
     "checksum": "1ff3b90528fdb50de90c5c946c157e21",
     "grade": false,
     "grade_id": "cell-93d78a28d4e25cbc",
     "locked": false,
     "schema_version": 3,
     "solution": true,
     "task": false
    }
   },
   "outputs": [],
   "source": [
    "import pandas as pd\n",
    "import numpy as np\n",
    "brown_df = pd.read_csv('brown_clusters.tsv', sep='\\t', header=0, names=['cluster', 'word', 'count'])\n",
    "\n",
    "number_of_iterations = 10\n",
    "import math\n",
    "def preform_bpe(brown_df, number_of_iterations):\n",
    "    \"\"\"\n",
    "    Funckcja przyjmuje ramkę w formacie analogicznym do obiektu brown_df (wczytany wyżej)\n",
    "     oraz liczbę iteracji.\n",
    "    Wyjściem funkcji powinna być lista słów z poszczególnymi tokenami/symbolami oddzielonymi spacją.\n",
    "    Za znak końca wyrazu przyjmij END. \n",
    "    \"\"\"    \n",
    "    # YOUR CODE HERE\n",
    "    class Counter(dict):\n",
    "         def __missing__(self, key):\n",
    "            return 0\n",
    "    \n",
    "    last_word = \"\"\n",
    "    # Deal with words interpeted as nan. The best option would be change pd.read_csv function, but i dunno how it will be tested. \n",
    "    brown_df[\"word\"] = brown_df[\"word\"].apply(lambda word: \"nan\" if isinstance(word, float) and math.isnan(word) else word)\n",
    "    split_words = [list(word) + [\"END\"] for word in brown_df[\"word\"] if not isinstance(word, float) or not math.isnan(word)]\n",
    "    words_count = list(brown_df[\"count\"])\n",
    "    for i in range(number_of_iterations):\n",
    "        pairs = Counter()\n",
    "        # generate pairs\n",
    "        for split_word, count in zip(split_words, words_count):\n",
    "            for pair in zip(split_word[:-1], split_word[1:]):\n",
    "                pairs[pair] += count\n",
    "        biggest_pair = max(pairs, key=pairs.get)\n",
    "#         print(i, biggest_pair)\n",
    "        joined_biggest_pair = \"\".join(biggest_pair)\n",
    "        new_split_words = []\n",
    "        \n",
    "        # generate new split words \n",
    "        for split_word in split_words:\n",
    "            new_split_word = []\n",
    "            matched_in_last_iteration = False\n",
    "            for pair in zip(split_word[:-1], split_word[1:]):\n",
    "                if pair == biggest_pair and not matched_in_last_iteration:\n",
    "                    new_split_word.append(joined_biggest_pair)\n",
    "                    matched_in_last_iteration = True\n",
    "                    continue \n",
    "                elif not matched_in_last_iteration:\n",
    "                    new_split_word.append(pair[0])\n",
    "                matched_in_last_iteration = False\n",
    "            if not matched_in_last_iteration:\n",
    "                new_split_word.append(pair[1])\n",
    "            new_split_words.append(new_split_word)\n",
    "        split_words = new_split_words\n",
    "    \n",
    "    return [\" \".join(split_word) for split_word in split_words]"
   ]
  },
  {
   "cell_type": "markdown",
   "metadata": {},
   "source": [
    "Test implementacji:"
   ]
  },
  {
   "cell_type": "code",
   "execution_count": 10,
   "metadata": {
    "ExecuteTime": {
     "end_time": "2020-03-22T20:42:38.288080Z",
     "start_time": "2020-03-22T20:42:38.273064Z"
    },
    "deletable": false,
    "editable": false,
    "nbgrader": {
     "cell_type": "code",
     "checksum": "dfff70f711bf389f0f1cd969e7c3a413",
     "grade": true,
     "grade_id": "cell-7e952fa8dcd136fe",
     "locked": true,
     "points": 10,
     "schema_version": 3,
     "solution": false,
     "task": false
    }
   },
   "outputs": [],
   "source": [
    "from nose.tools import assert_list_equal\n",
    "data = {'cluster': range(2), 'word':['ala', 'mama'], 'count': [5,10]}\n",
    "df = pd.DataFrame (data, columns = ['cluster', 'word', 'count'])\n",
    "vocab = preform_bpe(df, 1)\n",
    "assert_list_equal(vocab, ['a l a END', 'ma ma END'])"
   ]
  },
  {
   "cell_type": "markdown",
   "metadata": {},
   "source": [
    "Spraw aby Twoja implementacja wypisywała kolejne łączone ze sobą symbole i uruchom Twoją funkcję na np. 50 iteracji, obserwując jakie tokeny są tworzone."
   ]
  },
  {
   "cell_type": "code",
   "execution_count": 3,
   "metadata": {
    "ExecuteTime": {
     "end_time": "2020-03-22T18:05:57.254503Z",
     "start_time": "2020-03-22T18:04:59.888082Z"
    }
   },
   "outputs": [
    {
     "name": "stdout",
     "output_type": "stream",
     "text": [
      "0 ('e', 'END')\n",
      "1 ('t', 'END')\n",
      "2 ('s', 'END')\n",
      "3 ('i', 'n')\n",
      "4 ('t', 'h')\n",
      "5 ('d', 'END')\n",
      "6 ('y', 'END')\n",
      "7 ('.', 'END')\n",
      "8 ('o', 'END')\n",
      "9 ('r', 'END')\n",
      "10 ('a', 'n')\n",
      "11 ('>', 'END')\n",
      "12 ('o', 'n')\n",
      "13 ('o', 'u')\n",
      "14 ('g', 'END')\n",
      "15 ('a', 'END')\n",
      "16 ('l', 'END')\n",
      "17 ('in', 'gEND')\n",
      "18 ('<', '@')\n",
      "19 ('<@', 'M')\n",
      "20 ('<@M', 'E')\n",
      "21 ('<@ME', 'N')\n",
      "22 ('<@MEN', 'T')\n",
      "23 ('<@MENT', 'I')\n",
      "24 ('<@MENTI', 'O')\n",
      "25 ('<@MENTIO', 'N')\n",
      "26 ('<@MENTION', '>END')\n",
      "27 ('r', 'e')\n",
      "28 ('i', 'END')\n",
      "29 ('th', 'eEND')\n",
      "30 ('e', 'n')\n",
      "31 ('o', 'm')\n",
      "32 ('t', 'oEND')\n",
      "33 (',', 'END')\n",
      "34 ('!', 'END')\n",
      "35 ('e', 'r')\n",
      "36 ('h', 'a')\n",
      "37 ('e', 'rEND')\n",
      "38 ('i', 't')\n",
      "39 (':', 'END')\n",
      "40 ('y', 'ou')\n",
      "41 ('a', 'r')\n",
      "42 ('a', 'l')\n",
      "43 ('o', 'r')\n",
      "44 ('o', 'w')\n",
      "45 ('.', '.END')\n",
      "46 ('s', 't')\n",
      "47 ('k', 'END')\n",
      "48 ('i', 'sEND')\n",
      "49 ('f', 'END')\n"
     ]
    }
   ],
   "source": [
    "preform_bpe(brown_df, 50)\n"
   ]
  },
  {
   "cell_type": "code",
   "execution_count": null,
   "metadata": {},
   "outputs": [],
   "source": []
  },
  {
   "cell_type": "code",
   "execution_count": null,
   "metadata": {},
   "outputs": [],
   "source": []
  },
  {
   "cell_type": "markdown",
   "metadata": {
    "deletable": false,
    "editable": false,
    "nbgrader": {
     "cell_type": "markdown",
     "checksum": "9888b25499797c4fb0fd4f13646b0c3c",
     "grade": false,
     "grade_id": "cell-7d1e49878db56df4",
     "locked": true,
     "points": 0,
     "schema_version": 3,
     "solution": false,
     "task": true
    }
   },
   "source": [
    "- Jakie angielskie słowo jako pierwsze dostało swój własny token?"
   ]
  },
  {
   "cell_type": "markdown",
   "metadata": {
    "deletable": false,
    "nbgrader": {
     "cell_type": "markdown",
     "checksum": "df4c7b8b5aa2b077eaa2d42429797139",
     "grade": true,
     "grade_id": "cell-acd48c77e2c1bcec",
     "locked": false,
     "points": 1,
     "schema_version": 3,
     "solution": true,
     "task": false
    }
   },
   "source": [
    "Odnosząc się do słów są to article a - 16 iteracja i the - 30 iteracja (to - 32 iteracja - jednakże może dotyczyć to tylko samych końcówek), jednakże token związany z zwróceniem się do kogoś w Tweecie (tj. <@MENTION>), została wygenerowany jeszcze wcześniej - 27 iteracja. Można też zauważyć że jeszcze szybciej tworzy się końcówka dla formy gerund (ing) - 18 iteracja."
   ]
  },
  {
   "cell_type": "markdown",
   "metadata": {
    "deletable": false,
    "editable": false,
    "nbgrader": {
     "cell_type": "markdown",
     "checksum": "cd51e6fc0cd1d3b4d8b9e9a2fa1b0316",
     "grade": false,
     "grade_id": "cell-df60f5e5c6fe4ca0",
     "locked": true,
     "points": 0,
     "schema_version": 3,
     "solution": false,
     "task": true
    }
   },
   "source": [
    "- Jakie są zalety korzystania z tokenizacji BPE w kontekście tworzenia reprezentacji (problem OOV, odnieś się do  k-gramów i n-gramów)?"
   ]
  },
  {
   "cell_type": "markdown",
   "metadata": {
    "deletable": false,
    "nbgrader": {
     "cell_type": "markdown",
     "checksum": "64306e36b58f1eee12c8bb339123e105",
     "grade": true,
     "grade_id": "cell-006ef6fd3e397206",
     "locked": false,
     "points": 1,
     "schema_version": 3,
     "solution": true,
     "task": false
    }
   },
   "source": [
    "Tokenizacja BPE jest odporna na problem OOV, gdyż każde słowo można stworzyć z pojedyńczych znaków (które prawdopodobnie zostaną jako tokeny jeżeli liczba iteracji nie będzie zbyt duża), bądź ze zbitków znaków z innych tokenów.  \n",
    "\n",
    "Kompresuje zbiór - jest to de facto zbiór kompresujący. \n",
    "\n",
    "Tokenizacja BPE przy n-gramach może mieć mniej sensu niż tokenizacja zwykła, jeżeli te n-gramy będą małe (unigramy, trigramy), gdyż przy normalnych 3-gramach bierzemy 3 słowa które razem już mogą mieć jakiś sens, w wypadku tokenizacji dla słów rzadkich, na jedno słow mogą skłądać się 3 zbitki liter - tokeny raz mogą być słowa o pełnym znaczeniu w innych wypadkach nie. \n",
    "Ale może to mieć pozytywne skutki, dla tego modelu, gdyż możemy zyskać np. na sensie stopniowania para tokenów przymiotnika z końcówkami \"est\" \"er\" może dać nam informacje o stopniu przymiotnika.\n",
    "\n",
    "Wykorzystywanie tokenizacji (BPE i innych) nie ma sensu przy k-gramach, gdyż k-gramy biorą jako kontext k kolejnych znaków, a nie tokenów.\n",
    "\n"
   ]
  },
  {
   "cell_type": "markdown",
   "metadata": {},
   "source": [
    "# Zadanie 2 - klasyfikacja (15 pkt)"
   ]
  },
  {
   "cell_type": "markdown",
   "metadata": {},
   "source": [
    "Poniższy kod powinien wczytać i ztokenizować zbiór danych dot. analizy wydźwięku. Jeśli nie masz biblioteki `nltk` musisz ją zainstalować."
   ]
  },
  {
   "cell_type": "code",
   "execution_count": 4,
   "metadata": {
    "ExecuteTime": {
     "end_time": "2020-03-22T18:11:47.112090Z",
     "start_time": "2020-03-22T18:11:35.440572Z"
    }
   },
   "outputs": [
    {
     "name": "stdout",
     "output_type": "stream",
     "text": [
      "Reading data set ['tweets.txt']\n"
     ]
    }
   ],
   "source": [
    "from helpers import DataSet\n",
    "training_set = DataSet(['tweets.txt'])"
   ]
  },
  {
   "cell_type": "markdown",
   "metadata": {},
   "source": [
    "Poniżej znajdziesz przykład odczytu jednego tweeta z obiektu DataSet"
   ]
  },
  {
   "cell_type": "code",
   "execution_count": 5,
   "metadata": {
    "ExecuteTime": {
     "end_time": "2020-03-22T18:11:47.289042Z",
     "start_time": "2020-03-22T18:11:47.283033Z"
    }
   },
   "outputs": [
    {
     "name": "stdout",
     "output_type": "stream",
     "text": [
      "dear @Microsoft the newOoffice for Mac is great and all, but no Lync update? C'mon.\n",
      "['dear', '@microsoft', 'the', 'newooffice', 'for', 'mac', 'is', 'great', 'and', 'all', ',', 'but', 'no', 'lync', 'update', '?', \"c'mon\", '.']\n",
      "negative\n"
     ]
    }
   ],
   "source": [
    "for i in training_set.tweets:\n",
    "    print(i.text)\n",
    "    print(i.tokens)\n",
    "    print(i.clazz)\n",
    "    break"
   ]
  },
  {
   "cell_type": "markdown",
   "metadata": {},
   "source": [
    "Systemy IL często pracują z bardzo dużą liczbą cech, które są rzadkie np. cechy Bag-Of-Words, cechy n-gramowe itd. Powoduje to że klasyczna macierz przykłady uczące na cechy rośnie do bardzo dużych rozmiarów nawet dla małych zbiorów uczących (w sensie liczby przykładów). Ponadto samo przechowywanie w pamięci słownika mapującego konkretne słowa/n-gramy na indeksy kolumn macierzy może być bardzo kosztowne pamięciowo przy dużych rozmiarach słownika.\n",
    "\n",
    "Istnieje jednak technika, która pozwala nam na ominięcie tej przeszkody: haszowanie cech. Opis tej techniki znajdziesz na stronie:  https://en.wikipedia.org/wiki/Feature_hashing Jest ona też implementowana w obiekcie `sklearn.feature_extraction.FeatureHasher`. Zapoznaj się z opisem techniki i wykonaj poniższe polecenia.\n",
    "\n",
    "- Wykorzystując haszowanie cech wytrenuj wybrany klasyfikator na zbiorze uczącym dla cech Bag-of-words (możesz też spróbować cechy n-gramowe). Możesz wykorzystać gotową tokenizację we właściwości `.tokens`."
   ]
  },
  {
   "cell_type": "code",
   "execution_count": 6,
   "metadata": {
    "ExecuteTime": {
     "end_time": "2020-03-22T18:11:55.219109Z",
     "start_time": "2020-03-22T18:11:47.462035Z"
    },
    "deletable": false,
    "nbgrader": {
     "cell_type": "code",
     "checksum": "ac05ad71ee90b1c800030849c5321cb7",
     "grade": true,
     "grade_id": "cell-f6cfe39258fbec51",
     "locked": false,
     "points": 5,
     "schema_version": 3,
     "solution": true,
     "task": false
    }
   },
   "outputs": [],
   "source": [
    "# YOUR CODE HERE\n",
    "from sklearn.feature_extraction import FeatureHasher\n",
    "from sklearn.naive_bayes import MultinomialNB\n",
    "from sklearn.svm import SVC\n",
    "from sklearn.metrics import accuracy_score, f1_score\n",
    "import random\n",
    "\n",
    "TEST_SET_SPLIT = 0.2\n",
    "n_features=100000\n",
    "random.seed(10)\n",
    "random.shuffle(training_set.tweets)\n",
    "\n",
    "tokens_test = [tweet.tokens for tweet in training_set.tweets[:int(len(training_set.tweets) * TEST_SET_SPLIT)]]\n",
    "y_test = [tweet.clazz for tweet in training_set.tweets[:int(len(training_set.tweets) * TEST_SET_SPLIT)]]\n",
    "tokens_train = [tweet.tokens for tweet in training_set.tweets[int(len(training_set.tweets) * TEST_SET_SPLIT):]]\n",
    "y_train = [tweet.clazz for tweet in training_set.tweets[int(len(training_set.tweets) * TEST_SET_SPLIT):]]\n",
    "\n",
    "\n",
    "def fit_and_evaluate_model_fe(n_features, tokens_train, y_train, tokens_test, y_test):    \n",
    "    fh = FeatureHasher(n_features=n_features, input_type=\"string\")\n",
    "    X_train = fh.transform(tokens_train)\n",
    "    X_test = fh.transform(tokens_test)\n",
    "    \n",
    "    clf = SVC(kernel=\"linear\")\n",
    "    clf.fit(X_train, y_train)\n",
    "    \n",
    "    y_predict = clf.predict(X_test)\n",
    "        \n",
    "    acc = accuracy_score(y_test, y_predict)\n",
    "    f1 = f1_score(y_test, y_predict, average=\"macro\")\n",
    "    return clf, acc, f1\n",
    "\n",
    "clf, acc, f1 = fit_and_evaluate_model_fe(n_features, tokens_train, y_train, tokens_test, y_test)"
   ]
  },
  {
   "cell_type": "markdown",
   "metadata": {
    "deletable": false,
    "editable": false,
    "nbgrader": {
     "cell_type": "markdown",
     "checksum": "bd6bcaf8dae7184b60bd9a8adadd85d8",
     "grade": false,
     "grade_id": "cell-1caf16c401c91ef2",
     "locked": true,
     "points": 0,
     "schema_version": 3,
     "solution": false,
     "task": true
    }
   },
   "source": [
    "- Stwórz wykres zależności wybranej miary klasyfikacji od wymiarów macierzy danych (chodzi o liczbę cech do których haszujemy cechy oryginalne). Wystarczy przetestować kilka (>=4) wybranych wartości na skali logarytmicznej."
   ]
  },
  {
   "cell_type": "code",
   "execution_count": 7,
   "metadata": {
    "ExecuteTime": {
     "end_time": "2020-03-22T18:12:39.224093Z",
     "start_time": "2020-03-22T18:11:55.450039Z"
    },
    "deletable": false,
    "nbgrader": {
     "cell_type": "code",
     "checksum": "9bd253bac561b269cff3a3dceadc70f0",
     "grade": true,
     "grade_id": "cell-8076c16242981ae9",
     "locked": false,
     "points": 3,
     "schema_version": 3,
     "solution": true,
     "task": false
    }
   },
   "outputs": [
    {
     "name": "stdout",
     "output_type": "stream",
     "text": [
      "Acc: 0.5059578368469294, f1: 0.22398052343274497\n",
      "Acc: 0.5224564619615032, f1: 0.35716156406598637\n",
      "Acc: 0.538038496791934, f1: 0.4723241376913461\n",
      "Acc: 0.5334555453712191, f1: 0.4895176958055036\n",
      "Acc: 0.5609532538955087, f1: 0.5127693955229952\n",
      "Acc: 0.5609532538955087, f1: 0.5079923064238595\n"
     ]
    },
    {
     "data": {
      "image/png": "[encoded data removed]",
      "text/plain": [
       "<Figure size 720x432 with 1 Axes>"
      ]
     },
     "metadata": {
      "needs_background": "light"
     },
     "output_type": "display_data"
    }
   ],
   "source": [
    "# YOUR CODE HERE\n",
    "from matplotlib import pyplot as plt\n",
    "\n",
    "def generate_plot(n_values):\n",
    "    accs, f1s = [], []\n",
    "    n_values = [10 ** n for n in n_values]\n",
    "    for n in n_values:\n",
    "        clf, acc, f1 = fit_and_evaluate_model_fe(n, tokens_train, y_train, tokens_test, y_test)\n",
    "        print(f\"Acc: {acc}, f1: {f1}\")\n",
    "        accs.append(acc) \n",
    "        f1s.append(f1)\n",
    "        \n",
    "    fig = plt.figure(figsize = [10, 6])\n",
    "    ax = plt.subplot(111)\n",
    "    ax.plot(n_values, accs, label=\"accuracy\")\n",
    "    ax.plot(n_values, f1s, label=\"f1\")\n",
    "    ax.set_ylim([0, 1])\n",
    "    ax.set_xscale('log', basex=10)\n",
    "    ax.legend()\n",
    "    ax.set_title(\"Zależność miar oceny od ilości cech\")\n",
    "    ax.set_xlabel(\"Ilość cech do których hashujemy\")\n",
    "    ax.set_ylabel(\"Miara oceny\")\n",
    "    plt.show()\n",
    "    \n",
    "generate_plot(list(range(1, 7)))"
   ]
  },
  {
   "cell_type": "markdown",
   "metadata": {
    "deletable": false,
    "editable": false,
    "nbgrader": {
     "cell_type": "markdown",
     "checksum": "82f3f52a6fe2a10a300b5d45101b32b5",
     "grade": false,
     "grade_id": "cell-eab7c2a5f0251ff4",
     "locked": true,
     "points": 0,
     "schema_version": 3,
     "solution": false,
     "task": true
    }
   },
   "source": [
    " - Obserwując stworzony wykres - skomentuj. Jak dużo jakości klasyfikacji się traci (albo zyskuje?) korzystając z mniejszej liczby haszowanych cech? Często klasyfikatory bardzo dobrze działają nawet przy liczbie haszowanych cech dla których na pewno istnieją konflikty cech oryginalnych - jak myślisz dlaczego? (Pomyśl o interpretacji takich skonfliktowanych cech)."
   ]
  },
  {
   "cell_type": "markdown",
   "metadata": {
    "deletable": false,
    "nbgrader": {
     "cell_type": "markdown",
     "checksum": "ed30f2d487da41cf1a92ffb63195d621",
     "grade": true,
     "grade_id": "cell-2caea1821af5d8aa",
     "locked": false,
     "points": 1,
     "schema_version": 3,
     "solution": true,
     "task": false
    }
   },
   "source": [
    "Jak można zauważyć trafność klasyfikatora jest przaktycznie nie różni się w zależności od liczby cech które hashujemy. Jednakże zmienia się miara f-score zmienia się już w zależności od liczby cech. Dla małej wartości przyjmuję ona mniejsze wartości (~0.22) i zwiększa się (do ok. 0.5) przy 1000 cech, później miara ta utrzymuje się na podobnej wartości. Hashowanie mniejszej ilości cech niż 10 nie ma sensu, gdyż traci się za dużo informacji z tekstu. Przy za dużej ilości może dojść do momentu gdy cech \"featerów\" będzie więcej niż słów unikalnych w tekście. Również przy zwiększaniu ilości cech traic się niewrażliwość na pomyłki  \n",
    "\n",
    "Kalsyfikator działa dobrze nawet przy liczbie cech dla których na pewno istnieją konflikty cech oryginalnych, gdyż jest on wtedy odporny na pomyłki w słowie/literówki lub na słowa o podobnym znaczeniu (przy podobnej pisowni) - ponieważ będą miały one podobną wartość na wyjściu funkcji hashującej czyli będą tą samą cechą. "
   ]
  },
  {
   "cell_type": "markdown",
   "metadata": {
    "deletable": false,
    "editable": false,
    "nbgrader": {
     "cell_type": "markdown",
     "checksum": "20139da166319b49eea5cc7e984fc08e",
     "grade": false,
     "grade_id": "cell-0d86672dbabbf54d",
     "locked": true,
     "points": 0,
     "schema_version": 3,
     "solution": false,
     "task": true
    }
   },
   "source": [
    " - W poprzednim zadaniu wczytałeś wynik grupowania Browna do pamięci. Wytrenuj klasyfikator na reprezentacji ,,Bag-of-clusters'' tj. w kolumnach zamiast słów/n-gramów będziesz miał grupy."
   ]
  },
  {
   "cell_type": "code",
   "execution_count": 8,
   "metadata": {
    "ExecuteTime": {
     "end_time": "2020-03-22T18:13:08.990056Z",
     "start_time": "2020-03-22T18:12:39.433071Z"
    },
    "deletable": false,
    "nbgrader": {
     "cell_type": "code",
     "checksum": "b13c0457af5dab17e12780eafb1c5ac4",
     "grade": true,
     "grade_id": "cell-55264f6fe514d007",
     "locked": false,
     "points": 5,
     "schema_version": 3,
     "solution": true,
     "task": false
    }
   },
   "outputs": [
    {
     "name": "stdout",
     "output_type": "stream",
     "text": [
      "Acc: 0.5545371219065078, f1: 0.4799110180034512\n"
     ]
    }
   ],
   "source": [
    "from sklearn.feature_extraction.text import CountVectorizer\n",
    "# YOUR CODE HERE\n",
    "# brown_df[\"cluster\"].value_counts()\n",
    "# brown_df[brown_df[\"cluster\"] == 10010]\n",
    "\n",
    "word_to_cluster = {row['word']: row['cluster'] for _, row in brown_df.iterrows()}\n",
    "def transform_tokens_to_clusters(tokens_dataset, vectorizer, training=True):\n",
    "    clusters = []\n",
    "    for tokens in tokens_dataset:\n",
    "        clustered_tweet = []\n",
    "        for token in tokens:\n",
    "            try: \n",
    "                clustered_tweet.append(str(word_to_cluster[token]))\n",
    "            except KeyError:\n",
    "                pass\n",
    "        clusters.append(\" \".join(clustered_tweet))\n",
    "    return vectorizer.fit_transform(clusters) if training else vectorizer.transform(clusters)\n",
    "\n",
    "\n",
    "def fit_and_evaluate_model_boc(tokens_train, y_train, tokens_test, y_test):    \n",
    "    vectorizer = CountVectorizer(preprocessor=None, lowercase=False)\n",
    "    X_train = transform_tokens_to_clusters(tokens_train, vectorizer, True)\n",
    "    X_test = transform_tokens_to_clusters(tokens_test, vectorizer, False)\n",
    "\n",
    "    clf = SVC(kernel=\"linear\")\n",
    "    clf.fit(X_train, y_train)\n",
    "    \n",
    "    y_predict = clf.predict(X_test)\n",
    "\n",
    "    acc = accuracy_score(y_test, y_predict)\n",
    "    f1 = f1_score(y_test, y_predict, average=\"macro\")\n",
    "    return clf, acc, f1\n",
    "\n",
    "clf, acc, f1 = fit_and_evaluate_model_boc(tokens_train, y_train, tokens_test, y_test)\n",
    "print(f\"Acc: {acc}, f1: {f1}\")\n"
   ]
  },
  {
   "cell_type": "markdown",
   "metadata": {
    "deletable": false,
    "editable": false,
    "nbgrader": {
     "cell_type": "markdown",
     "checksum": "3e47a053ebc12ac2fd97d9c11187da9b",
     "grade": false,
     "grade_id": "cell-493071698fc0205e",
     "locked": true,
     "points": 0,
     "schema_version": 3,
     "solution": false,
     "task": true
    }
   },
   "source": [
    "- Podsumuj eksperymenty: poznałeś dwie możliwości ograniczenia liczby cech - zastąpienie słów ich grupami i haszowanie cech. Jakie są wady i zalety obydwu podejść?"
   ]
  },
  {
   "cell_type": "markdown",
   "metadata": {
    "deletable": false,
    "nbgrader": {
     "cell_type": "markdown",
     "checksum": "b80ace505afba9b12fd5d3896a9046ef",
     "grade": true,
     "grade_id": "cell-4508400659f7243e",
     "locked": false,
     "points": 1,
     "schema_version": 3,
     "solution": true,
     "task": false
    }
   },
   "source": [
    "<table>\n",
    "  <tr>\n",
    "    <th></th>\n",
    "    <th>Clustering</th>\n",
    "    <th>Feature Hasher</th>\n",
    "  </tr>\n",
    "  <tr>\n",
    "    <td>Zalety</td>\n",
    "    <td>Można ustalić w pewien sposób jak dane słowa będą clustrowane - mamy w pewnym sensie wpływ na te clustry.<br><br>Złożoność obliczeniowa samego przyporządkowania słowo &gt; cluster jest niska.<br><br>Na poziomie jednego clustra słowa mogą mieć podobny sens lub podobną funkcję gramatyczną. <br><br></td>\n",
    "    <td>Niewrażliwość na literówki przy odpowiedniej ilości feature'ów.<br><br>Nie trzeba używać dodatkowego słownika który przyporządkuje słowo do feature'a, czyli nie ma potrzeby tworzenia takowego na jakimś korpusie, dzięki czemu brak problemu ze słowami spoza korpusu<br><br>Złożoność obliczeniowa jest niska.<br></td>\n",
    "  </tr>\n",
    "  <tr>\n",
    "    <td>Wady</td>\n",
    "    <td>Uzyskanie grup może być czasochłonne. <br><br>Wrażliwy na literówki oraz problem ze słowami spoza korpusu. <br><br></td>\n",
    "    <td>Cechy nie są interpretowalne w podobny sensie jak grupy.<br><br>Wrażliwy na literówki oraz problem ze słowami spoza korpusu. <br><br></td>\n",
    "  </tr>\n",
    "</table>"
   ]
  }
 ],
 "metadata": {
  "kernelspec": {
   "display_name": "Python 3",
   "language": "python",
   "name": "python3"
  },
  "language_info": {
   "codemirror_mode": {
    "name": "ipython",
    "version": 3
   },
   "file_extension": ".py",
   "mimetype": "text/x-python",
   "name": "python",
   "nbconvert_exporter": "python",
   "pygments_lexer": "ipython3",
   "version": "3.7.6"
  },
  "toc": {
   "base_numbering": 1,
   "nav_menu": {},
   "number_sections": true,
   "sideBar": true,
   "skip_h1_title": false,
   "title_cell": "Table of Contents",
   "title_sidebar": "Contents",
   "toc_cell": true,
   "toc_position": {},
   "toc_section_display": true,
   "toc_window_display": false
  },
  "varInspector": {
   "cols": {
    "lenName": 16,
    "lenType": 16,
    "lenVar": 40
   },
   "kernels_config": {
    "python": {
     "delete_cmd_postfix": "",
     "delete_cmd_prefix": "del ",
     "library": "var_list.py",
     "varRefreshCmd": "print(var_dic_list())"
    },
    "r": {
     "delete_cmd_postfix": ") ",
     "delete_cmd_prefix": "rm(",
     "library": "var_list.r",
     "varRefreshCmd": "cat(var_dic_list()) "
    }
   },
   "types_to_exclude": [
    "module",
    "function",
    "builtin_function_or_method",
    "instance",
    "_Feature"
   ],
   "window_display": false
  }
 },
 "nbformat": 4,
 "nbformat_minor": 2
}
